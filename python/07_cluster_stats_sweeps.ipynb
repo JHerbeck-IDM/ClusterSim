{
 "cells": [
  {
   "cell_type": "markdown",
   "id": "d9279c99-09a8-4eb8-b4bb-64b46848e61c",
   "metadata": {},
   "source": [
    "# Parameter sweeps\n",
    "\n",
    "Parameter sweeps for testing clustering statistics."
   ]
  },
  {
   "cell_type": "markdown",
   "id": "39992444-1010-415f-a85a-32e400b9fa3d",
   "metadata": {},
   "source": [
    "## Parameters for sweeps\n",
    "\n",
    "Here we define the overall parameters that will be used for running the analysis. The parameters include a `LABEL` to name the experiments and output data, the path to actually save the output data, sampling rates, cutoffs, as well as any other simulation parameter."
   ]
  },
  {
   "cell_type": "code",
   "execution_count": 11,
   "id": "b8b2f7db-cd8f-4c09-8c23-e9ad0ee264e1",
   "metadata": {},
   "outputs": [],
   "source": [
    "LABEL          = 'simple_parameter_sweeps'\n",
    "RESULTS_PATH   = '../results'\n",
    "\n",
    "SAMPLING_RATES = [0.01, 0.05, 0.1, 0.3, 0.5, 0.7, 0.9, 1.0]\n",
    "CUTOFFS        = [k*365 for k in [0.5, 1, 2, 3, 4, 5, 6, 7, 8, 9, 10]]\n",
    "\n",
    "RAND_SEEDS = list( range(0, 100, 5) )"
   ]
  },
  {
   "cell_type": "markdown",
   "id": "3befeff8-1779-4d6a-9150-eea96c6cd8c2",
   "metadata": {},
   "source": [
    "## Initialization\n",
    "\n",
    "Imports and other environment configuration."
   ]
  },
  {
   "cell_type": "code",
   "execution_count": 12,
   "id": "7a17a9a7-aded-4068-ba15-361c673db139",
   "metadata": {},
   "outputs": [],
   "source": [
    "import os\n",
    "#import time\n",
    "#import warnings\n",
    "#import multiprocessing\n",
    "\n",
    "import numpy as np\n",
    "import pandas as pd\n",
    "#import seaborn\n",
    "#from matplotlib import pyplot as plt\n",
    "#%matplotlib inline\n",
    "\n",
    "#from find_clusters import run_analysis"
   ]
  },
  {
   "cell_type": "code",
   "execution_count": 13,
   "id": "8faed479-e560-4164-a4b9-0de37d8f715f",
   "metadata": {},
   "outputs": [
    {
     "name": "stdout",
     "output_type": "stream",
     "text": [
      "... the directory  /workspaces/ClusterSim/results/simple_parameter_sweeps\n",
      "    already exists. Simulation results may overwrite files in\n",
      "    this directory.\n"
     ]
    }
   ],
   "source": [
    "# Create output directory and file name prefix\n",
    "results_dir = os.path.join( os.path.abspath(RESULTS_PATH), LABEL )\n",
    "if os.path.exists( results_dir ):\n",
    "    print( '... the directory ', results_dir )\n",
    "    print( '    already exists. Simulation results may overwrite files in' )\n",
    "    print( '    this directory.' )\n",
    "    if input( '    Do you want to continue? [y/N] ' ) != 'y':\n",
    "        raise Exception('stopping execution')\n",
    "else:\n",
    "    os.makedirs( results_dir )\n",
    "\n",
    "output_prefix = results_dir + '/' + LABEL"
   ]
  },
  {
   "cell_type": "markdown",
   "id": "90c657d5-8c7b-4f6c-a89b-2812e59fe2b5",
   "metadata": {},
   "source": [
    "## Load PANGEA-HIV clustering data\n",
    "\n",
    "Let's get the data by reading this figure. We can use precise data (the one used for creating this figure) at a later time.\n",
    "![PANGEA-HIV Clustering Results](pangea_clustering.png)"
   ]
  },
  {
   "cell_type": "code",
   "execution_count": 14,
   "id": "31f2fa77-c6f7-4427-943e-3e9318b40e2c",
   "metadata": {},
   "outputs": [],
   "source": [
    "pangea_data = pd.DataFrame( [ [ 'HIVDRD, UK'       , 'red'  , 3.4, 1.5, 11  , 2  , 0.7 , 1.5  ],\n",
    "                              [ 'PopART, Zambia'   , 'blue' , 2.3, 0.3,  3  , 0.4, 0.18, 3.19 ],\n",
    "                              [ 'Rakai, Uganda'    , 'brown', 2.4, 0.3,  3  , 0.4, 0.18, 3.27 ],\n",
    "                              [ 'Ya Tsie, Botswana', 'green', 2.1, 0.2,  2.5, 0.2, 0.05, 5.15 ]\n",
    "                             ],\n",
    "                             columns = [ 'location',\n",
    "                                         'color',\n",
    "                                         'cluster size (mean)',\n",
    "                                         'cluster size (CoV)',\n",
    "                                         'weighted cluster size (mean)',\n",
    "                                         'weighted cluster size (CoV)',\n",
    "                                         'Gini coefficient', \n",
    "                                         'R0'\n",
    "                                        ]\n",
    "                           )"
   ]
  },
  {
   "cell_type": "markdown",
   "id": "731fff94-3aac-43f6-902d-1238a218a964",
   "metadata": {},
   "source": [
    "## Run branching process model"
   ]
  },
  {
   "cell_type": "code",
   "execution_count": 15,
   "id": "8b0ea611-93bf-4bfe-b23e-3489c69e3093",
   "metadata": {},
   "outputs": [],
   "source": [
    "partner_number_sweep   = [ 0.25, 0.5, 0.75 ]\n",
    "lambda_parameter_sweep = [ 0.001, 0.002, 0.003 ]"
   ]
  },
  {
   "cell_type": "code",
   "execution_count": 16,
   "id": "208adc5a-e68b-41c8-b813-58e2e796d610",
   "metadata": {},
   "outputs": [
    {
     "ename": "RuntimeError",
     "evalue": "No active exception to reraise",
     "output_type": "error",
     "traceback": [
      "\u001b[0;31m---------------------------------------------------------------------------\u001b[0m",
      "\u001b[0;31mRuntimeError\u001b[0m                              Traceback (most recent call last)",
      "\u001b[1;32m/workspaces/ClusterSim/python/07_cluster_stats_sweeps.ipynb Cell 11\u001b[0m line \u001b[0;36m1\n\u001b[0;32m----> <a href='vscode-notebook-cell://codespaces%2Bstunning-space-sniffle-9jgq7xvpqp63xx4j/workspaces/ClusterSim/python/07_cluster_stats_sweeps.ipynb#X20sdnNjb2RlLXJlbW90ZQ%3D%3D?line=0'>1</a>\u001b[0m \u001b[39mraise\u001b[39;00m\n\u001b[1;32m      <a href='vscode-notebook-cell://codespaces%2Bstunning-space-sniffle-9jgq7xvpqp63xx4j/workspaces/ClusterSim/python/07_cluster_stats_sweeps.ipynb#X20sdnNjb2RlLXJlbW90ZQ%3D%3D?line=2'>3</a>\u001b[0m \u001b[39m# Let's define the number of parallel processes and a wrapper function with that\u001b[39;00m\n\u001b[1;32m      <a href='vscode-notebook-cell://codespaces%2Bstunning-space-sniffle-9jgq7xvpqp63xx4j/workspaces/ClusterSim/python/07_cluster_stats_sweeps.ipynb#X20sdnNjb2RlLXJlbW90ZQ%3D%3D?line=3'>4</a>\u001b[0m \u001b[39m# defines the code that a single process will execute\u001b[39;00m\n\u001b[1;32m      <a href='vscode-notebook-cell://codespaces%2Bstunning-space-sniffle-9jgq7xvpqp63xx4j/workspaces/ClusterSim/python/07_cluster_stats_sweeps.ipynb#X20sdnNjb2RlLXJlbW90ZQ%3D%3D?line=4'>5</a>\u001b[0m n_processes \u001b[39m=\u001b[39m \u001b[39mmax\u001b[39m( \u001b[39mint\u001b[39m(multiprocessing\u001b[39m.\u001b[39mcpu_count()\u001b[39m/\u001b[39m\u001b[39m2\u001b[39m \u001b[39m-\u001b[39m \u001b[39m2\u001b[39m), \u001b[39m1\u001b[39m )\n",
      "\u001b[0;31mRuntimeError\u001b[0m: No active exception to reraise"
     ]
    }
   ],
   "source": [
    "raise\n",
    "\n",
    "# Let's define the number of parallel processes and a wrapper function with that\n",
    "# defines the code that a single process will execute\n",
    "n_processes = max( int(multiprocessing.cpu_count()/2 - 2), 1 )\n",
    "\n",
    "def analysis_worker( rand_seed ):\n",
    "    params = SIM_PARAMS\n",
    "    params['seed'] = rand_seed\n",
    "    run_analysis( SAMPLING_RATES, CUTOFFS, params, output_prefix )\n",
    "    return\n",
    "\n",
    "# Sweep partner number\n",
    "#for mean_partner_number in partner_number_sweep:"
   ]
  }
 ],
 "metadata": {
  "kernelspec": {
   "display_name": "Python 3",
   "language": "python",
   "name": "python3"
  },
  "language_info": {
   "codemirror_mode": {
    "name": "ipython",
    "version": 3
   },
   "file_extension": ".py",
   "mimetype": "text/x-python",
   "name": "python",
   "nbconvert_exporter": "python",
   "pygments_lexer": "ipython3",
   "version": "3.10.12"
  }
 },
 "nbformat": 4,
 "nbformat_minor": 5
}
