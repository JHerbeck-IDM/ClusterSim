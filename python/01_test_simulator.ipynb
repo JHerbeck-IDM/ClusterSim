{
 "cells": [
  {
   "cell_type": "markdown",
   "id": "0c956ea1-7b4d-43b7-bc74-19bc81c19105",
   "metadata": {},
   "source": [
    "# Running the (R-based) HIV branching process from Python\n",
    "\n",
    "This notebook shows how to run the R-based HIV simulator code based on abranching process from Python. The wrapper to the simulator is the `simulate_transmission` function that is coded in the `hiv_branching_process.R` file. To illustrate how the Python-R interface works, we first run the testing script within the R file, and then call the `simulate_transmission` function directly using different sets of parameters. "
   ]
  },
  {
   "cell_type": "markdown",
   "id": "b319fa17-be69-458d-b0d1-8d6d6a01d6ee",
   "metadata": {},
   "source": [
    "## Initialization\n",
    "\n",
    "We first load standard Python packages, along with the `rpy2` package that allows us to call R code. We should also set the working directory to make sure that the paths within the simulators will work."
   ]
  },
  {
   "cell_type": "code",
   "execution_count": 1,
   "id": "c1dc5f1d-16d8-40c2-8db2-463e41c3579b",
   "metadata": {},
   "outputs": [],
   "source": [
    "# Standard packages\n",
    "import os\n",
    "%matplotlib inline"
   ]
  },
  {
   "cell_type": "code",
   "execution_count": 2,
   "id": "86362efd-6fe8-46ee-ade9-75b8ad6a0b16",
   "metadata": {},
   "outputs": [],
   "source": [
    "# R-related packages\n",
    "import rpy2\n",
    "import rpy2.robjects as robjects\n",
    "r = robjects.r\n",
    "\n",
    "# We may need to install some packages\n",
    "try:\n",
    "    from rpy2.robjects.packages import importr\n",
    "    dplyr = importr('dplyr')\n",
    "except RRuntimeError:\n",
    "    from rpy2.robjects.packages import importr, data\n",
    "    utils = importr('utils')\n",
    "    base = importr('base')\n",
    "    utils.chooseCRANmirror()\n",
    "    utils.install_packages('dplyr')"
   ]
  },
  {
   "cell_type": "code",
   "execution_count": 3,
   "id": "1ea85518-da77-4cb5-a7b3-bf2c6e12323f",
   "metadata": {},
   "outputs": [],
   "source": [
    "# Set up working directory\n",
    "cwd = os.getcwd()\n",
    "os.chdir('../')"
   ]
  },
  {
   "cell_type": "markdown",
   "id": "8020f1f5-7010-48b5-b725-06839531ae5f",
   "metadata": {},
   "source": [
    "## Run `hiv_branching_process.R`'s testing function"
   ]
  },
  {
   "cell_type": "code",
   "execution_count": 4,
   "id": "c9bb1e9c-f8ca-46e2-a994-b32b7e482a07",
   "metadata": {},
   "outputs": [
    {
     "data": {
      "text/html": [
       "\n",
       "        <span>ListVector with 2 elements.</span>\n",
       "        <table>\n",
       "        <tbody>\n",
       "        \n",
       "          <tr>\n",
       "            <th>\n",
       "            value\n",
       "            </th>\n",
       "            <td>\n",
       "            <rpy2.rinterface_lib.sexp.NULLType object at 0x7f4124e8c3c0> [RTYPES.NILSXP]\n",
       "            </td>\n",
       "          </tr>\n",
       "        \n",
       "          <tr>\n",
       "            <th>\n",
       "            visible\n",
       "            </th>\n",
       "            <td>\n",
       "            <rpy2.rinterface.BoolSexpVector object at 0x7f4230ad9240> [RTYPES.LGLSXP]\n",
       "            </td>\n",
       "          </tr>\n",
       "        \n",
       "        </tbody>\n",
       "        </table>\n",
       "        "
      ],
      "text/plain": [
       "<rpy2.robjects.vectors.ListVector object at 0x7f425a0e95c0> [RTYPES.VECSXP]\n",
       "R classes: ('list',)\n",
       "[NULLType, BoolSexpVector]\n",
       "  value: <class 'rpy2.rinterface_lib.sexp.NULLType'>\n",
       "  <rpy2.rinterface_lib.sexp.NULLType object at 0x7f4124e8c3c0> [RTYPES.NILSXP]\n",
       "  visible: <class 'rpy2.rinterface.BoolSexpVector'>\n",
       "  <rpy2.rinterface.BoolSexpVector object at 0x7f4258054240> [RTYPES.LGLSXP]"
      ]
     },
     "execution_count": 4,
     "metadata": {},
     "output_type": "execute_result"
    }
   ],
   "source": [
    "r.source('hiv_branching_process.R')"
   ]
  },
  {
   "cell_type": "markdown",
   "id": "6222324a-5d79-46ea-bdb8-731d454d3efb",
   "metadata": {},
   "source": [
    "## Calling `simulate_transmission` from Python\n",
    "\n",
    "Once we source `hiv_branching_process.R`, we can access `simulate_transmission()`. We can define (or modify default) parameters in the function call. This function returns a named list with two items: `population_summary` and `transmission_record`. We can convert each of those items into pandas dataframes, and process that data directly in Python."
   ]
  },
  {
   "cell_type": "code",
   "execution_count": 5,
   "id": "b4af2c7c-a41f-4439-83ab-d39696741e06",
   "metadata": {},
   "outputs": [
    {
     "name": "stdout",
     "output_type": "stream",
     "text": [
      "  |==================================================| 100%\n"
     ]
    }
   ],
   "source": [
    "out = r.simulate_transmission( sim_time=100 )"
   ]
  },
  {
   "cell_type": "code",
   "execution_count": 6,
   "id": "b3f3028a-43d6-4d30-b0c1-fc88cf29db59",
   "metadata": {},
   "outputs": [],
   "source": [
    "# Convert simulator outputs into Pandas dataframes\n",
    "population_summary_r  = out.rx2('population_summary' )\n",
    "transmission_record_r = out.rx2('transmission_record')\n",
    "\n",
    "from rpy2.robjects import pandas2ri\n",
    "from rpy2.robjects.conversion import localconverter\n",
    "with localconverter( robjects.default_converter + pandas2ri.converter ):\n",
    "    population_summary  = robjects.conversion.rpy2py( population_summary_r  )\n",
    "    transmission_record = robjects.conversion.rpy2py( transmission_record_r )"
   ]
  },
  {
   "cell_type": "markdown",
   "id": "1a39bec9-8fc6-426f-a761-922321b03e72",
   "metadata": {},
   "source": [
    "We can now explore the simulation output:"
   ]
  },
  {
   "cell_type": "code",
   "execution_count": 7,
   "id": "95c85ab1-4d19-40a9-bbaf-7548e65a5cb1",
   "metadata": {},
   "outputs": [
    {
     "data": {
      "text/html": [
       "<div>\n",
       "<style scoped>\n",
       "    .dataframe tbody tr th:only-of-type {\n",
       "        vertical-align: middle;\n",
       "    }\n",
       "\n",
       "    .dataframe tbody tr th {\n",
       "        vertical-align: top;\n",
       "    }\n",
       "\n",
       "    .dataframe thead th {\n",
       "        text-align: right;\n",
       "    }\n",
       "</style>\n",
       "<table border=\"1\" class=\"dataframe\">\n",
       "  <thead>\n",
       "    <tr style=\"text-align: right;\">\n",
       "      <th></th>\n",
       "      <th>recipient</th>\n",
       "      <th>removal_rate</th>\n",
       "      <th>partners</th>\n",
       "      <th>acts_per_day</th>\n",
       "      <th>transmission_risk_per_act</th>\n",
       "      <th>transmission_risk_per_day</th>\n",
       "      <th>source</th>\n",
       "      <th>infectionTime</th>\n",
       "      <th>sampleTime</th>\n",
       "      <th>cumulative_partners</th>\n",
       "      <th>cumulative_transmissions</th>\n",
       "    </tr>\n",
       "  </thead>\n",
       "  <tbody>\n",
       "    <tr>\n",
       "      <th>1</th>\n",
       "      <td>1.0</td>\n",
       "      <td>0.001</td>\n",
       "      <td>0</td>\n",
       "      <td>0.152823</td>\n",
       "      <td>0.95</td>\n",
       "      <td>0.000000</td>\n",
       "      <td>0.0</td>\n",
       "      <td>0.0</td>\n",
       "      <td>365.0</td>\n",
       "      <td>0.0</td>\n",
       "      <td>0.0</td>\n",
       "    </tr>\n",
       "    <tr>\n",
       "      <th>2</th>\n",
       "      <td>2.0</td>\n",
       "      <td>0.001</td>\n",
       "      <td>1</td>\n",
       "      <td>0.072246</td>\n",
       "      <td>0.95</td>\n",
       "      <td>0.000110</td>\n",
       "      <td>0.0</td>\n",
       "      <td>0.0</td>\n",
       "      <td>365.0</td>\n",
       "      <td>0.0</td>\n",
       "      <td>0.0</td>\n",
       "    </tr>\n",
       "    <tr>\n",
       "      <th>3</th>\n",
       "      <td>3.0</td>\n",
       "      <td>0.001</td>\n",
       "      <td>0</td>\n",
       "      <td>0.522873</td>\n",
       "      <td>0.95</td>\n",
       "      <td>0.000000</td>\n",
       "      <td>0.0</td>\n",
       "      <td>0.0</td>\n",
       "      <td>365.0</td>\n",
       "      <td>0.0</td>\n",
       "      <td>0.0</td>\n",
       "    </tr>\n",
       "    <tr>\n",
       "      <th>4</th>\n",
       "      <td>4.0</td>\n",
       "      <td>0.001</td>\n",
       "      <td>2</td>\n",
       "      <td>0.854449</td>\n",
       "      <td>0.95</td>\n",
       "      <td>0.003289</td>\n",
       "      <td>0.0</td>\n",
       "      <td>0.0</td>\n",
       "      <td>365.0</td>\n",
       "      <td>0.0</td>\n",
       "      <td>0.0</td>\n",
       "    </tr>\n",
       "    <tr>\n",
       "      <th>5</th>\n",
       "      <td>5.0</td>\n",
       "      <td>0.001</td>\n",
       "      <td>0</td>\n",
       "      <td>0.577191</td>\n",
       "      <td>0.95</td>\n",
       "      <td>0.000000</td>\n",
       "      <td>0.0</td>\n",
       "      <td>0.0</td>\n",
       "      <td>365.0</td>\n",
       "      <td>0.0</td>\n",
       "      <td>0.0</td>\n",
       "    </tr>\n",
       "  </tbody>\n",
       "</table>\n",
       "</div>"
      ],
      "text/plain": [
       "   recipient  removal_rate  partners  acts_per_day  transmission_risk_per_act  \\\n",
       "1        1.0         0.001         0      0.152823                       0.95   \n",
       "2        2.0         0.001         1      0.072246                       0.95   \n",
       "3        3.0         0.001         0      0.522873                       0.95   \n",
       "4        4.0         0.001         2      0.854449                       0.95   \n",
       "5        5.0         0.001         0      0.577191                       0.95   \n",
       "\n",
       "   transmission_risk_per_day  source  infectionTime  sampleTime  \\\n",
       "1                   0.000000     0.0            0.0       365.0   \n",
       "2                   0.000110     0.0            0.0       365.0   \n",
       "3                   0.000000     0.0            0.0       365.0   \n",
       "4                   0.003289     0.0            0.0       365.0   \n",
       "5                   0.000000     0.0            0.0       365.0   \n",
       "\n",
       "   cumulative_partners  cumulative_transmissions  \n",
       "1                  0.0                       0.0  \n",
       "2                  0.0                       0.0  \n",
       "3                  0.0                       0.0  \n",
       "4                  0.0                       0.0  \n",
       "5                  0.0                       0.0  "
      ]
     },
     "execution_count": 7,
     "metadata": {},
     "output_type": "execute_result"
    }
   ],
   "source": [
    "population_summary.head()"
   ]
  },
  {
   "cell_type": "code",
   "execution_count": 8,
   "id": "f1a1f43e-182b-4f8e-8162-863edca6f262",
   "metadata": {},
   "outputs": [
    {
     "data": {
      "text/html": [
       "<div>\n",
       "<style scoped>\n",
       "    .dataframe tbody tr th:only-of-type {\n",
       "        vertical-align: middle;\n",
       "    }\n",
       "\n",
       "    .dataframe tbody tr th {\n",
       "        vertical-align: top;\n",
       "    }\n",
       "\n",
       "    .dataframe thead th {\n",
       "        text-align: right;\n",
       "    }\n",
       "</style>\n",
       "<table border=\"1\" class=\"dataframe\">\n",
       "  <thead>\n",
       "    <tr style=\"text-align: right;\">\n",
       "      <th></th>\n",
       "      <th>recipient</th>\n",
       "      <th>timestep</th>\n",
       "      <th>removal</th>\n",
       "      <th>transmission</th>\n",
       "    </tr>\n",
       "  </thead>\n",
       "  <tbody>\n",
       "    <tr>\n",
       "      <th>1</th>\n",
       "      <td>1.0</td>\n",
       "      <td>100</td>\n",
       "      <td>True</td>\n",
       "      <td>False</td>\n",
       "    </tr>\n",
       "    <tr>\n",
       "      <th>2</th>\n",
       "      <td>2.0</td>\n",
       "      <td>100</td>\n",
       "      <td>False</td>\n",
       "      <td>False</td>\n",
       "    </tr>\n",
       "    <tr>\n",
       "      <th>3</th>\n",
       "      <td>3.0</td>\n",
       "      <td>100</td>\n",
       "      <td>False</td>\n",
       "      <td>False</td>\n",
       "    </tr>\n",
       "    <tr>\n",
       "      <th>4</th>\n",
       "      <td>4.0</td>\n",
       "      <td>100</td>\n",
       "      <td>False</td>\n",
       "      <td>False</td>\n",
       "    </tr>\n",
       "    <tr>\n",
       "      <th>5</th>\n",
       "      <td>5.0</td>\n",
       "      <td>100</td>\n",
       "      <td>False</td>\n",
       "      <td>False</td>\n",
       "    </tr>\n",
       "  </tbody>\n",
       "</table>\n",
       "</div>"
      ],
      "text/plain": [
       "   recipient  timestep  removal  transmission\n",
       "1        1.0       100     True         False\n",
       "2        2.0       100    False         False\n",
       "3        3.0       100    False         False\n",
       "4        4.0       100    False         False\n",
       "5        5.0       100    False         False"
      ]
     },
     "execution_count": 8,
     "metadata": {},
     "output_type": "execute_result"
    }
   ],
   "source": [
    "transmission_record.head()"
   ]
  },
  {
   "cell_type": "code",
   "execution_count": 9,
   "id": "c72d4eb3-c84c-4030-adef-17c9faac13a9",
   "metadata": {},
   "outputs": [
    {
     "data": {
      "text/plain": [
       "<Axes: xlabel='infectionTime'>"
      ]
     },
     "execution_count": 9,
     "metadata": {},
     "output_type": "execute_result"
    },
    {
     "data": {
      "image/png": "[encoded data removed]",
      "text/plain": [
       "<Figure size 640x480 with 1 Axes>"
      ]
     },
     "metadata": {},
     "output_type": "display_data"
    }
   ],
   "source": [
    "infection_events = population_summary.groupby('infectionTime').count().rename(columns={'recipient':'count'})\n",
    "infection_events['cumulative_infections'] = infection_events['count'].cumsum()\n",
    "infection_events = infection_events.loc[:, ['count', 'cumulative_infections']]\n",
    "infection_events.plot( y='cumulative_infections' )"
   ]
  }
 ],
 "metadata": {
  "kernelspec": {
   "display_name": "Python (clustersim_20230720)",
   "language": "python",
   "name": "clustersim_20230720"
  },
  "language_info": {
   "codemirror_mode": {
    "name": "ipython",
    "version": 3
   },
   "file_extension": ".py",
   "mimetype": "text/x-python",
   "name": "python",
   "nbconvert_exporter": "python",
   "pygments_lexer": "ipython3",
   "version": "3.9.17"
  }
 },
 "nbformat": 4,
 "nbformat_minor": 5
}
